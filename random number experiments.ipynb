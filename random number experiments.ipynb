{
 "cells": [
  {
   "cell_type": "code",
   "execution_count": 22,
   "metadata": {},
   "outputs": [],
   "source": [
    "import random\n",
    "import numpy as np\n",
    "import matplotlib.pyplot as plt\n",
    "import scipy.stats as st\n",
    "%matplotlib inline"
   ]
  },
  {
   "cell_type": "code",
   "execution_count": 2,
   "metadata": {},
   "outputs": [],
   "source": [
    "def grid_maker(): \n",
    "    grid = []\n",
    "    for x in range(0, 5):\n",
    "        grid.append([])\n",
    "        for y in range (0, 5):\n",
    "            grid[x].append(bool(random.getrandbits(1)))\n",
    "    return grid"
   ]
  },
  {
   "cell_type": "code",
   "execution_count": 3,
   "metadata": {},
   "outputs": [
    {
     "data": {
      "text/plain": [
       "[[False, True, False, False, True],\n",
       " [True, True, True, True, False],\n",
       " [True, True, False, False, True],\n",
       " [False, False, True, False, False],\n",
       " [True, True, False, True, False]]"
      ]
     },
     "execution_count": 3,
     "metadata": {},
     "output_type": "execute_result"
    }
   ],
   "source": [
    "grid_maker()"
   ]
  },
  {
   "cell_type": "code",
   "execution_count": 4,
   "metadata": {},
   "outputs": [],
   "source": [
    "false_grid = [[False, False, False, False, False],\n",
    " [False, False, False, False, False],\n",
    " [False, False, False, False, False],\n",
    " [False, False, False, False, False],\n",
    " [False, False, False, False, False]]"
   ]
  },
  {
   "cell_type": "code",
   "execution_count": 5,
   "metadata": {},
   "outputs": [],
   "source": [
    "true_grid = [[True, True, True, True, True],\n",
    " [True, True, True, True, True],\n",
    " [True, True, True, True, True],\n",
    " [True, True, True, True, True],\n",
    " [True, True, True, True, True]]"
   ]
  },
  {
   "cell_type": "code",
   "execution_count": 6,
   "metadata": {},
   "outputs": [],
   "source": [
    "def mapper(n, isy=False):\n",
    "    if (isy):\n",
    "        n = 4-n\n",
    "    if (n==0):\n",
    "        return -1\n",
    "    elif (n==1):\n",
    "        return -0.5\n",
    "    elif (n==2):\n",
    "        return 0\n",
    "    elif (n==3):\n",
    "        return 0.5\n",
    "    elif (n==4):\n",
    "        return 1"
   ]
  },
  {
   "cell_type": "code",
   "execution_count": 7,
   "metadata": {},
   "outputs": [],
   "source": [
    "def get_slopes():\n",
    "    this_grid = grid_maker()\n",
    "#     this_grid = true_grid\n",
    "    xs = []\n",
    "    ys = []\n",
    "    for y in range(4, -1, -1):\n",
    "        for x in range(0, 5): \n",
    "            if (this_grid[y][x] == True):\n",
    "                xs.append([1, mapper(x)])\n",
    "                ys.append(mapper(y, True))\n",
    "    # OLS: \n",
    "    X = np.array(xs)\n",
    "    y = np.array(ys)\n",
    "#     if (len(y) > 0):\n",
    "    return(np.dot(np.linalg.inv(np.dot(X.transpose(), X)), np.dot(X.transpose(), y))[1])"
   ]
  },
  {
   "cell_type": "code",
   "execution_count": 10,
   "metadata": {},
   "outputs": [
    {
     "data": {
      "text/plain": [
       "0.06060606060606061"
      ]
     },
     "execution_count": 10,
     "metadata": {},
     "output_type": "execute_result"
    }
   ],
   "source": [
    "get_slopes()"
   ]
  },
  {
   "cell_type": "code",
   "execution_count": 25,
   "metadata": {},
   "outputs": [],
   "source": [
    "slopes = [] # 10000000\n",
    "for i in range(0, 10000000):\n",
    "    try:\n",
    "        slopes.append(get_slopes())\n",
    "    except:\n",
    "        pass"
   ]
  },
  {
   "cell_type": "code",
   "execution_count": 26,
   "metadata": {},
   "outputs": [
    {
     "data": {
      "text/plain": [
       "9999952"
      ]
     },
     "execution_count": 26,
     "metadata": {},
     "output_type": "execute_result"
    }
   ],
   "source": [
    "len(slopes)"
   ]
  },
  {
   "cell_type": "code",
   "execution_count": 27,
   "metadata": {},
   "outputs": [
    {
     "data": {
      "text/plain": [
       "(array([5.000000e+00, 2.200000e+01, 1.650000e+02, 1.628900e+04,\n",
       "        4.890432e+06, 5.077310e+06, 1.555900e+04, 1.470000e+02,\n",
       "        2.000000e+01, 3.000000e+00]),\n",
       " array([-4. , -3.2, -2.4, -1.6, -0.8,  0. ,  0.8,  1.6,  2.4,  3.2,  4. ]),\n",
       " <a list of 10 Patch objects>)"
      ]
     },
     "execution_count": 27,
     "metadata": {},
     "output_type": "execute_result"
    },
    {
     "data": {
      "image/png": "[encoded data removed]",
      "text/plain": [
       "<Figure size 432x288 with 1 Axes>"
      ]
     },
     "metadata": {
      "needs_background": "light"
     },
     "output_type": "display_data"
    }
   ],
   "source": [
    "plt.hist(slopes)"
   ]
  },
  {
   "cell_type": "code",
   "execution_count": 28,
   "metadata": {},
   "outputs": [
    {
     "data": {
      "text/plain": [
       "4.184803950596086e-05"
      ]
     },
     "execution_count": 28,
     "metadata": {},
     "output_type": "execute_result"
    }
   ],
   "source": [
    "np.mean(slopes) # 2.0581701525749853e-05 @ 10000000"
   ]
  },
  {
   "cell_type": "code",
   "execution_count": 29,
   "metadata": {},
   "outputs": [
    {
     "data": {
      "text/plain": [
       "0.23997315376214298"
      ]
     },
     "execution_count": 29,
     "metadata": {},
     "output_type": "execute_result"
    }
   ],
   "source": [
    "np.std(slopes) # 0.24007778194029583 @ 10000000"
   ]
  },
  {
   "cell_type": "code",
   "execution_count": 33,
   "metadata": {},
   "outputs": [],
   "source": [
    "dist_mean = np.mean(slopes)\n",
    "dist_std = np.std(slopes)\n",
    "to_uniform = []\n",
    "z_scores = []\n",
    "for slope in slopes: \n",
    "    Z = (slope - dist_mean) / dist_std\n",
    "    z_scores.append(Z)\n",
    "    area_under_z = st.norm.cdf(Z)\n",
    "    to_uniform.append(area_under_z)"
   ]
  },
  {
   "cell_type": "code",
   "execution_count": 41,
   "metadata": {},
   "outputs": [
    {
     "data": {
      "text/plain": [
       "(array([ 928040.,  932314.,  999334., 1062184., 1171735.,  983175.,\n",
       "        1062568.,  999241.,  931093.,  930268.]),\n",
       " array([1.10667937e-62, 1.00000000e-01, 2.00000000e-01, 3.00000000e-01,\n",
       "        4.00000000e-01, 5.00000000e-01, 6.00000000e-01, 7.00000000e-01,\n",
       "        8.00000000e-01, 9.00000000e-01, 1.00000000e+00]),\n",
       " <a list of 10 Patch objects>)"
      ]
     },
     "execution_count": 41,
     "metadata": {},
     "output_type": "execute_result"
    },
    {
     "data": {
      "image/png": "[encoded data removed]",
      "text/plain": [
       "<Figure size 432x288 with 1 Axes>"
      ]
     },
     "metadata": {
      "needs_background": "light"
     },
     "output_type": "display_data"
    }
   ],
   "source": [
    "plt.hist(to_uniform)"
   ]
  },
  {
   "cell_type": "code",
   "execution_count": 40,
   "metadata": {},
   "outputs": [
    {
     "data": {
      "text/plain": [
       "(array([3.699000e+03, 2.741600e+04, 2.163940e+05, 1.220743e+06,\n",
       "        3.624287e+06, 3.438330e+06, 1.220181e+06, 2.160230e+05,\n",
       "        2.710500e+04, 3.687000e+03, 6.430000e+02]),\n",
       " array([-5, -4, -3, -2, -1,  0,  1,  2,  3,  4,  5,  6]),\n",
       " <a list of 11 Patch objects>)"
      ]
     },
     "execution_count": 40,
     "metadata": {},
     "output_type": "execute_result"
    },
    {
     "data": {
      "image/png": "[encoded data removed]",
      "text/plain": [
       "<Figure size 432x288 with 1 Axes>"
      ]
     },
     "metadata": {
      "needs_background": "light"
     },
     "output_type": "display_data"
    }
   ],
   "source": [
    "plt.xlim(-5, 5)\n",
    "plt.hist(z_scores, bins=[-5, -4, -3, -2, -1, 0, 1, 2, 3, 4, 5, 6])"
   ]
  },
  {
   "cell_type": "markdown",
   "metadata": {},
   "source": [
    "not sure what this stuff is:"
   ]
  },
  {
   "cell_type": "code",
   "execution_count": 18,
   "metadata": {},
   "outputs": [],
   "source": [
    "# golden = (1 + 5 ** 0.5) / 2\n",
    "# uniform = []\n",
    "# for slope in slopes:\n",
    "#     uniform.append(slope * np.sqrt(5))"
   ]
  },
  {
   "cell_type": "code",
   "execution_count": 19,
   "metadata": {},
   "outputs": [],
   "source": [
    "# print(golden)"
   ]
  },
  {
   "cell_type": "code",
   "execution_count": null,
   "metadata": {},
   "outputs": [],
   "source": []
  }
 ],
 "metadata": {
  "kernelspec": {
   "display_name": "Python 3",
   "language": "python",
   "name": "python3"
  },
  "language_info": {
   "codemirror_mode": {
    "name": "ipython",
    "version": 3
   },
   "file_extension": ".py",
   "mimetype": "text/x-python",
   "name": "python",
   "nbconvert_exporter": "python",
   "pygments_lexer": "ipython3",
   "version": "3.7.1"
  }
 },
 "nbformat": 4,
 "nbformat_minor": 2
}
